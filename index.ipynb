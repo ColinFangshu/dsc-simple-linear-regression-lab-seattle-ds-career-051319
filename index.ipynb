{
 "cells": [
  {
   "cell_type": "markdown",
   "metadata": {},
   "source": [
    "# Simple Linear Regression - Lab\n",
    "\n",
    "## Introduction\n",
    "\n",
    "Regression analysis forms the basis of machine learning experiments. Understanding regression will help you to get the foundations of most machine learning algorithms. Ever wondered what's at the heart of an artificial neural network processing unstructured data like music and graphics? It can be linear regression!\n",
    "\n",
    "## Objectives\n",
    "\n",
    "You will be able to:\n",
    "\n",
    "* Calculate the slope of a line using standard slope formula \n",
    "* Calculate the y-intercept using the slope value\n",
    "* Draw a regression line based on calculated slope and intercept\n",
    "* Predict the label of a previously unseen data element\n",
    "\n",
    "\n",
    "\n",
    "## Let's get started\n",
    "\n",
    "A first step towards understanding regression is getting a clear idea about \"linear\" regression and basic linear algebra. \n",
    "\n",
    "In the lesson, we showed the best-fit line's slope $\\hat m$ can be calculated as:\n",
    "\n",
    "$$\\hat m = \\rho \\frac{S_Y}{S_X}$$\n",
    "\n",
    "With $\\rho$ being the correlation coefficient and  ${S_Y}$ and ${S_X}$ The standard deviation of $x$ and $y$ respectively. It can be shown that this is also equal to:\n",
    "\n",
    "$$\\hat m = \\dfrac{\\overline{x}*\\overline{y}-\\overline{xy}}{(\\overline{x})^2-\\overline{x^2}}$$\n",
    "\n",
    "You'll use the latter formula in this lab. As in our previous lab, let's break down the formula into its parts. First, you'll import the required libraries and define some data points to work with. Next, you'll use some pre-created toy data in numpy arrays. Let's do this for you to give you a head start. "
   ]
  },
  {
   "cell_type": "code",
   "execution_count": 7,
   "metadata": {},
   "outputs": [],
   "source": [
    "# import necessary libraries\n",
    "\n",
    "import numpy as np\n",
    "import matplotlib.pyplot as plt\n",
    "from matplotlib import style\n",
    "style.use('ggplot')\n",
    "\n",
    "# Initialize vectors X and Y with given values and create a scatter plot\n",
    "X = np.array([1,2,3,4,5,6,8,8,9,10], dtype=np.float64)\n",
    "Y = np.array([7,7,8,9,9,10,10,11,11,12], dtype=np.float64)\n"
   ]
  },
  {
   "cell_type": "code",
   "execution_count": 8,
   "metadata": {},
   "outputs": [
    {
     "data": {
      "text/plain": [
       "array([ 1.,  2.,  3.,  4.,  5.,  6.,  8.,  8.,  9., 10.])"
      ]
     },
     "execution_count": 8,
     "metadata": {},
     "output_type": "execute_result"
    }
   ],
   "source": [
    "X"
   ]
  },
  {
   "cell_type": "markdown",
   "metadata": {},
   "source": [
    "## Create a scatter plot between X and Y and comment on the output"
   ]
  },
  {
   "cell_type": "code",
   "execution_count": 9,
   "metadata": {},
   "outputs": [
    {
     "data": {
      "text/plain": [
       "<matplotlib.axes._subplots.AxesSubplot at 0x7f9b13c05710>"
      ]
     },
     "execution_count": 9,
     "metadata": {},
     "output_type": "execute_result"
    },
    {
     "data": {
      "image/png": "[encoded data removed]",
      "text/plain": [
       "<Figure size 432x288 with 1 Axes>"
      ]
     },
     "metadata": {},
     "output_type": "display_data"
    }
   ],
   "source": [
    "import seaborn as sns\n",
    "sns.scatterplot(x=X,y=Y)"
   ]
  },
  {
   "cell_type": "code",
   "execution_count": 10,
   "metadata": {},
   "outputs": [],
   "source": [
    "# Scatter plot\n"
   ]
  },
  {
   "cell_type": "code",
   "execution_count": 11,
   "metadata": {},
   "outputs": [],
   "source": [
    "# Your observations about relationship in X and Y \n",
    "\n",
    "\n",
    "\n",
    "#"
   ]
  },
  {
   "cell_type": "markdown",
   "metadata": {},
   "source": [
    "In a data analysis context, we can think of these points as two vectors:\n",
    "\n",
    "* **vector X**: The independent variable or predictor\n",
    "* **vector Y**: The dependent variable or target variable\n",
    "\n",
    "## Write a function `calc_slope()`\n",
    "\n",
    "Write a function `calc_slope()` that takes in x and y vectors and calculates the slope using the formula shown above. "
   ]
  },
  {
   "cell_type": "code",
   "execution_count": 12,
   "metadata": {},
   "outputs": [
    {
     "data": {
      "text/plain": [
       "0.5393518518518512"
      ]
     },
     "execution_count": 12,
     "metadata": {},
     "output_type": "execute_result"
    }
   ],
   "source": [
    "# Write the function to calculate slope as: \n",
    "# (mean(x) * mean(y) – mean(x*y)) / ( mean (x)^2 – mean( x^2))\n",
    "def calc_slope(xs,ys):\n",
    "    x = np.array([xs])\n",
    "    y = np.array([ys])\n",
    "    return (x.mean()*y.mean() - (x*y).mean())/(x.mean()**2 - (x**2).mean())\n",
    "\n",
    "calc_slope(X,Y)\n",
    "\n",
    "# 0.5393518518518512"
   ]
  },
  {
   "cell_type": "code",
   "execution_count": 16,
   "metadata": {},
   "outputs": [
    {
     "ename": "NameError",
     "evalue": "name 'x' is not defined",
     "output_type": "error",
     "traceback": [
      "\u001b[0;31m\u001b[0m",
      "\u001b[0;31mNameError\u001b[0mTraceback (most recent call last)",
      "\u001b[0;32m<ipython-input-16-6fcf9dfbd479>\u001b[0m in \u001b[0;36m<module>\u001b[0;34m()\u001b[0m\n\u001b[0;32m----> 1\u001b[0;31m \u001b[0mx\u001b[0m\u001b[0;34m\u001b[0m\u001b[0m\n\u001b[0m",
      "\u001b[0;31mNameError\u001b[0m: name 'x' is not defined"
     ]
    }
   ],
   "source": [
    "x"
   ]
  },
  {
   "cell_type": "markdown",
   "metadata": {},
   "source": [
    "Great, so we have our slope. Next we calculate the intercept. \n",
    "\n",
    "As a reminder, the calculation for the best-fit line's y-intercept is:\n",
    "\n",
    "$$\\hat c = \\overline y - \\hat m \\overline x $$\n",
    "\n",
    "\n",
    "## Write a function best_fit()\n",
    "\n",
    "Write a function `best_fit()` that takes in X and Y, calculates the slope and intercept using the formula. The function should return slope and intercept values. "
   ]
  },
  {
   "cell_type": "code",
   "execution_count": 13,
   "metadata": {},
   "outputs": [
    {
     "data": {
      "text/plain": [
       "(0.5393518518518512, 6.379629629629633)"
      ]
     },
     "execution_count": 13,
     "metadata": {},
     "output_type": "execute_result"
    }
   ],
   "source": [
    "# use the slope function with intercept formula to return calculate slope and intercept from data points\n",
    "\n",
    "def best_fit(xs,ys):\n",
    "    slope = calc_slope(xs,ys)\n",
    "    intercept = ys.mean()-slope*xs.mean()\n",
    "    return [slope, intercept]\n",
    "\n",
    "# Uncomment below to test your function\n",
    "\n",
    "m, c = best_fit(X,Y)\n",
    "m, c\n",
    "\n",
    "# (0.5393518518518512, 6.379629629629633)"
   ]
  },
  {
   "cell_type": "markdown",
   "metadata": {},
   "source": [
    "We now have a working model with `m` and `c` as model parameters. We can create a line for the data points using the calculated slope and intercept:\n",
    "\n",
    "* Recall that $y = mx + c$. We can now use slope and intercept values along with X data points (features) to calculate the Y data points (labels) of the regression line. \n",
    "\n",
    "## Write a function reg_line()\n",
    "\n",
    "Write a function `reg_line()` that takes in slope, intercept and X vector and calculates the regression line using $y= mx + c$ for each point in X"
   ]
  },
  {
   "cell_type": "code",
   "execution_count": 18,
   "metadata": {},
   "outputs": [
    {
     "data": {
      "text/plain": [
       "[array([ 0.        ,  0.01001001,  0.02002002,  0.03003003,  0.04004004,\n",
       "         0.05005005,  0.06006006,  0.07007007,  0.08008008,  0.09009009,\n",
       "         0.1001001 ,  0.11011011,  0.12012012,  0.13013013,  0.14014014,\n",
       "         0.15015015,  0.16016016,  0.17017017,  0.18018018,  0.19019019,\n",
       "         0.2002002 ,  0.21021021,  0.22022022,  0.23023023,  0.24024024,\n",
       "         0.25025025,  0.26026026,  0.27027027,  0.28028028,  0.29029029,\n",
       "         0.3003003 ,  0.31031031,  0.32032032,  0.33033033,  0.34034034,\n",
       "         0.35035035,  0.36036036,  0.37037037,  0.38038038,  0.39039039,\n",
       "         0.4004004 ,  0.41041041,  0.42042042,  0.43043043,  0.44044044,\n",
       "         0.45045045,  0.46046046,  0.47047047,  0.48048048,  0.49049049,\n",
       "         0.5005005 ,  0.51051051,  0.52052052,  0.53053053,  0.54054054,\n",
       "         0.55055055,  0.56056056,  0.57057057,  0.58058058,  0.59059059,\n",
       "         0.6006006 ,  0.61061061,  0.62062062,  0.63063063,  0.64064064,\n",
       "         0.65065065,  0.66066066,  0.67067067,  0.68068068,  0.69069069,\n",
       "         0.7007007 ,  0.71071071,  0.72072072,  0.73073073,  0.74074074,\n",
       "         0.75075075,  0.76076076,  0.77077077,  0.78078078,  0.79079079,\n",
       "         0.8008008 ,  0.81081081,  0.82082082,  0.83083083,  0.84084084,\n",
       "         0.85085085,  0.86086086,  0.87087087,  0.88088088,  0.89089089,\n",
       "         0.9009009 ,  0.91091091,  0.92092092,  0.93093093,  0.94094094,\n",
       "         0.95095095,  0.96096096,  0.97097097,  0.98098098,  0.99099099,\n",
       "         1.001001  ,  1.01101101,  1.02102102,  1.03103103,  1.04104104,\n",
       "         1.05105105,  1.06106106,  1.07107107,  1.08108108,  1.09109109,\n",
       "         1.1011011 ,  1.11111111,  1.12112112,  1.13113113,  1.14114114,\n",
       "         1.15115115,  1.16116116,  1.17117117,  1.18118118,  1.19119119,\n",
       "         1.2012012 ,  1.21121121,  1.22122122,  1.23123123,  1.24124124,\n",
       "         1.25125125,  1.26126126,  1.27127127,  1.28128128,  1.29129129,\n",
       "         1.3013013 ,  1.31131131,  1.32132132,  1.33133133,  1.34134134,\n",
       "         1.35135135,  1.36136136,  1.37137137,  1.38138138,  1.39139139,\n",
       "         1.4014014 ,  1.41141141,  1.42142142,  1.43143143,  1.44144144,\n",
       "         1.45145145,  1.46146146,  1.47147147,  1.48148148,  1.49149149,\n",
       "         1.5015015 ,  1.51151151,  1.52152152,  1.53153153,  1.54154154,\n",
       "         1.55155155,  1.56156156,  1.57157157,  1.58158158,  1.59159159,\n",
       "         1.6016016 ,  1.61161161,  1.62162162,  1.63163163,  1.64164164,\n",
       "         1.65165165,  1.66166166,  1.67167167,  1.68168168,  1.69169169,\n",
       "         1.7017017 ,  1.71171171,  1.72172172,  1.73173173,  1.74174174,\n",
       "         1.75175175,  1.76176176,  1.77177177,  1.78178178,  1.79179179,\n",
       "         1.8018018 ,  1.81181181,  1.82182182,  1.83183183,  1.84184184,\n",
       "         1.85185185,  1.86186186,  1.87187187,  1.88188188,  1.89189189,\n",
       "         1.9019019 ,  1.91191191,  1.92192192,  1.93193193,  1.94194194,\n",
       "         1.95195195,  1.96196196,  1.97197197,  1.98198198,  1.99199199,\n",
       "         2.002002  ,  2.01201201,  2.02202202,  2.03203203,  2.04204204,\n",
       "         2.05205205,  2.06206206,  2.07207207,  2.08208208,  2.09209209,\n",
       "         2.1021021 ,  2.11211211,  2.12212212,  2.13213213,  2.14214214,\n",
       "         2.15215215,  2.16216216,  2.17217217,  2.18218218,  2.19219219,\n",
       "         2.2022022 ,  2.21221221,  2.22222222,  2.23223223,  2.24224224,\n",
       "         2.25225225,  2.26226226,  2.27227227,  2.28228228,  2.29229229,\n",
       "         2.3023023 ,  2.31231231,  2.32232232,  2.33233233,  2.34234234,\n",
       "         2.35235235,  2.36236236,  2.37237237,  2.38238238,  2.39239239,\n",
       "         2.4024024 ,  2.41241241,  2.42242242,  2.43243243,  2.44244244,\n",
       "         2.45245245,  2.46246246,  2.47247247,  2.48248248,  2.49249249,\n",
       "         2.5025025 ,  2.51251251,  2.52252252,  2.53253253,  2.54254254,\n",
       "         2.55255255,  2.56256256,  2.57257257,  2.58258258,  2.59259259,\n",
       "         2.6026026 ,  2.61261261,  2.62262262,  2.63263263,  2.64264264,\n",
       "         2.65265265,  2.66266266,  2.67267267,  2.68268268,  2.69269269,\n",
       "         2.7027027 ,  2.71271271,  2.72272272,  2.73273273,  2.74274274,\n",
       "         2.75275275,  2.76276276,  2.77277277,  2.78278278,  2.79279279,\n",
       "         2.8028028 ,  2.81281281,  2.82282282,  2.83283283,  2.84284284,\n",
       "         2.85285285,  2.86286286,  2.87287287,  2.88288288,  2.89289289,\n",
       "         2.9029029 ,  2.91291291,  2.92292292,  2.93293293,  2.94294294,\n",
       "         2.95295295,  2.96296296,  2.97297297,  2.98298298,  2.99299299,\n",
       "         3.003003  ,  3.01301301,  3.02302302,  3.03303303,  3.04304304,\n",
       "         3.05305305,  3.06306306,  3.07307307,  3.08308308,  3.09309309,\n",
       "         3.1031031 ,  3.11311311,  3.12312312,  3.13313313,  3.14314314,\n",
       "         3.15315315,  3.16316316,  3.17317317,  3.18318318,  3.19319319,\n",
       "         3.2032032 ,  3.21321321,  3.22322322,  3.23323323,  3.24324324,\n",
       "         3.25325325,  3.26326326,  3.27327327,  3.28328328,  3.29329329,\n",
       "         3.3033033 ,  3.31331331,  3.32332332,  3.33333333,  3.34334334,\n",
       "         3.35335335,  3.36336336,  3.37337337,  3.38338338,  3.39339339,\n",
       "         3.4034034 ,  3.41341341,  3.42342342,  3.43343343,  3.44344344,\n",
       "         3.45345345,  3.46346346,  3.47347347,  3.48348348,  3.49349349,\n",
       "         3.5035035 ,  3.51351351,  3.52352352,  3.53353353,  3.54354354,\n",
       "         3.55355355,  3.56356356,  3.57357357,  3.58358358,  3.59359359,\n",
       "         3.6036036 ,  3.61361361,  3.62362362,  3.63363363,  3.64364364,\n",
       "         3.65365365,  3.66366366,  3.67367367,  3.68368368,  3.69369369,\n",
       "         3.7037037 ,  3.71371371,  3.72372372,  3.73373373,  3.74374374,\n",
       "         3.75375375,  3.76376376,  3.77377377,  3.78378378,  3.79379379,\n",
       "         3.8038038 ,  3.81381381,  3.82382382,  3.83383383,  3.84384384,\n",
       "         3.85385385,  3.86386386,  3.87387387,  3.88388388,  3.89389389,\n",
       "         3.9039039 ,  3.91391391,  3.92392392,  3.93393393,  3.94394394,\n",
       "         3.95395395,  3.96396396,  3.97397397,  3.98398398,  3.99399399,\n",
       "         4.004004  ,  4.01401401,  4.02402402,  4.03403403,  4.04404404,\n",
       "         4.05405405,  4.06406406,  4.07407407,  4.08408408,  4.09409409,\n",
       "         4.1041041 ,  4.11411411,  4.12412412,  4.13413413,  4.14414414,\n",
       "         4.15415415,  4.16416416,  4.17417417,  4.18418418,  4.19419419,\n",
       "         4.2042042 ,  4.21421421,  4.22422422,  4.23423423,  4.24424424,\n",
       "         4.25425425,  4.26426426,  4.27427427,  4.28428428,  4.29429429,\n",
       "         4.3043043 ,  4.31431431,  4.32432432,  4.33433433,  4.34434434,\n",
       "         4.35435435,  4.36436436,  4.37437437,  4.38438438,  4.39439439,\n",
       "         4.4044044 ,  4.41441441,  4.42442442,  4.43443443,  4.44444444,\n",
       "         4.45445445,  4.46446446,  4.47447447,  4.48448448,  4.49449449,\n",
       "         4.5045045 ,  4.51451451,  4.52452452,  4.53453453,  4.54454454,\n",
       "         4.55455455,  4.56456456,  4.57457457,  4.58458458,  4.59459459,\n",
       "         4.6046046 ,  4.61461461,  4.62462462,  4.63463463,  4.64464464,\n",
       "         4.65465465,  4.66466466,  4.67467467,  4.68468468,  4.69469469,\n",
       "         4.7047047 ,  4.71471471,  4.72472472,  4.73473473,  4.74474474,\n",
       "         4.75475475,  4.76476476,  4.77477477,  4.78478478,  4.79479479,\n",
       "         4.8048048 ,  4.81481481,  4.82482482,  4.83483483,  4.84484484,\n",
       "         4.85485485,  4.86486486,  4.87487487,  4.88488488,  4.89489489,\n",
       "         4.9049049 ,  4.91491491,  4.92492492,  4.93493493,  4.94494494,\n",
       "         4.95495495,  4.96496496,  4.97497497,  4.98498498,  4.99499499,\n",
       "         5.00500501,  5.01501502,  5.02502503,  5.03503504,  5.04504505,\n",
       "         5.05505506,  5.06506507,  5.07507508,  5.08508509,  5.0950951 ,\n",
       "         5.10510511,  5.11511512,  5.12512513,  5.13513514,  5.14514515,\n",
       "         5.15515516,  5.16516517,  5.17517518,  5.18518519,  5.1951952 ,\n",
       "         5.20520521,  5.21521522,  5.22522523,  5.23523524,  5.24524525,\n",
       "         5.25525526,  5.26526527,  5.27527528,  5.28528529,  5.2952953 ,\n",
       "         5.30530531,  5.31531532,  5.32532533,  5.33533534,  5.34534535,\n",
       "         5.35535536,  5.36536537,  5.37537538,  5.38538539,  5.3953954 ,\n",
       "         5.40540541,  5.41541542,  5.42542543,  5.43543544,  5.44544545,\n",
       "         5.45545546,  5.46546547,  5.47547548,  5.48548549,  5.4954955 ,\n",
       "         5.50550551,  5.51551552,  5.52552553,  5.53553554,  5.54554555,\n",
       "         5.55555556,  5.56556557,  5.57557558,  5.58558559,  5.5955956 ,\n",
       "         5.60560561,  5.61561562,  5.62562563,  5.63563564,  5.64564565,\n",
       "         5.65565566,  5.66566567,  5.67567568,  5.68568569,  5.6956957 ,\n",
       "         5.70570571,  5.71571572,  5.72572573,  5.73573574,  5.74574575,\n",
       "         5.75575576,  5.76576577,  5.77577578,  5.78578579,  5.7957958 ,\n",
       "         5.80580581,  5.81581582,  5.82582583,  5.83583584,  5.84584585,\n",
       "         5.85585586,  5.86586587,  5.87587588,  5.88588589,  5.8958959 ,\n",
       "         5.90590591,  5.91591592,  5.92592593,  5.93593594,  5.94594595,\n",
       "         5.95595596,  5.96596597,  5.97597598,  5.98598599,  5.995996  ,\n",
       "         6.00600601,  6.01601602,  6.02602603,  6.03603604,  6.04604605,\n",
       "         6.05605606,  6.06606607,  6.07607608,  6.08608609,  6.0960961 ,\n",
       "         6.10610611,  6.11611612,  6.12612613,  6.13613614,  6.14614615,\n",
       "         6.15615616,  6.16616617,  6.17617618,  6.18618619,  6.1961962 ,\n",
       "         6.20620621,  6.21621622,  6.22622623,  6.23623624,  6.24624625,\n",
       "         6.25625626,  6.26626627,  6.27627628,  6.28628629,  6.2962963 ,\n",
       "         6.30630631,  6.31631632,  6.32632633,  6.33633634,  6.34634635,\n",
       "         6.35635636,  6.36636637,  6.37637638,  6.38638639,  6.3963964 ,\n",
       "         6.40640641,  6.41641642,  6.42642643,  6.43643644,  6.44644645,\n",
       "         6.45645646,  6.46646647,  6.47647648,  6.48648649,  6.4964965 ,\n",
       "         6.50650651,  6.51651652,  6.52652653,  6.53653654,  6.54654655,\n",
       "         6.55655656,  6.56656657,  6.57657658,  6.58658659,  6.5965966 ,\n",
       "         6.60660661,  6.61661662,  6.62662663,  6.63663664,  6.64664665,\n",
       "         6.65665666,  6.66666667,  6.67667668,  6.68668669,  6.6966967 ,\n",
       "         6.70670671,  6.71671672,  6.72672673,  6.73673674,  6.74674675,\n",
       "         6.75675676,  6.76676677,  6.77677678,  6.78678679,  6.7967968 ,\n",
       "         6.80680681,  6.81681682,  6.82682683,  6.83683684,  6.84684685,\n",
       "         6.85685686,  6.86686687,  6.87687688,  6.88688689,  6.8968969 ,\n",
       "         6.90690691,  6.91691692,  6.92692693,  6.93693694,  6.94694695,\n",
       "         6.95695696,  6.96696697,  6.97697698,  6.98698699,  6.996997  ,\n",
       "         7.00700701,  7.01701702,  7.02702703,  7.03703704,  7.04704705,\n",
       "         7.05705706,  7.06706707,  7.07707708,  7.08708709,  7.0970971 ,\n",
       "         7.10710711,  7.11711712,  7.12712713,  7.13713714,  7.14714715,\n",
       "         7.15715716,  7.16716717,  7.17717718,  7.18718719,  7.1971972 ,\n",
       "         7.20720721,  7.21721722,  7.22722723,  7.23723724,  7.24724725,\n",
       "         7.25725726,  7.26726727,  7.27727728,  7.28728729,  7.2972973 ,\n",
       "         7.30730731,  7.31731732,  7.32732733,  7.33733734,  7.34734735,\n",
       "         7.35735736,  7.36736737,  7.37737738,  7.38738739,  7.3973974 ,\n",
       "         7.40740741,  7.41741742,  7.42742743,  7.43743744,  7.44744745,\n",
       "         7.45745746,  7.46746747,  7.47747748,  7.48748749,  7.4974975 ,\n",
       "         7.50750751,  7.51751752,  7.52752753,  7.53753754,  7.54754755,\n",
       "         7.55755756,  7.56756757,  7.57757758,  7.58758759,  7.5975976 ,\n",
       "         7.60760761,  7.61761762,  7.62762763,  7.63763764,  7.64764765,\n",
       "         7.65765766,  7.66766767,  7.67767768,  7.68768769,  7.6976977 ,\n",
       "         7.70770771,  7.71771772,  7.72772773,  7.73773774,  7.74774775,\n",
       "         7.75775776,  7.76776777,  7.77777778,  7.78778779,  7.7977978 ,\n",
       "         7.80780781,  7.81781782,  7.82782783,  7.83783784,  7.84784785,\n",
       "         7.85785786,  7.86786787,  7.87787788,  7.88788789,  7.8978979 ,\n",
       "         7.90790791,  7.91791792,  7.92792793,  7.93793794,  7.94794795,\n",
       "         7.95795796,  7.96796797,  7.97797798,  7.98798799,  7.997998  ,\n",
       "         8.00800801,  8.01801802,  8.02802803,  8.03803804,  8.04804805,\n",
       "         8.05805806,  8.06806807,  8.07807808,  8.08808809,  8.0980981 ,\n",
       "         8.10810811,  8.11811812,  8.12812813,  8.13813814,  8.14814815,\n",
       "         8.15815816,  8.16816817,  8.17817818,  8.18818819,  8.1981982 ,\n",
       "         8.20820821,  8.21821822,  8.22822823,  8.23823824,  8.24824825,\n",
       "         8.25825826,  8.26826827,  8.27827828,  8.28828829,  8.2982983 ,\n",
       "         8.30830831,  8.31831832,  8.32832833,  8.33833834,  8.34834835,\n",
       "         8.35835836,  8.36836837,  8.37837838,  8.38838839,  8.3983984 ,\n",
       "         8.40840841,  8.41841842,  8.42842843,  8.43843844,  8.44844845,\n",
       "         8.45845846,  8.46846847,  8.47847848,  8.48848849,  8.4984985 ,\n",
       "         8.50850851,  8.51851852,  8.52852853,  8.53853854,  8.54854855,\n",
       "         8.55855856,  8.56856857,  8.57857858,  8.58858859,  8.5985986 ,\n",
       "         8.60860861,  8.61861862,  8.62862863,  8.63863864,  8.64864865,\n",
       "         8.65865866,  8.66866867,  8.67867868,  8.68868869,  8.6986987 ,\n",
       "         8.70870871,  8.71871872,  8.72872873,  8.73873874,  8.74874875,\n",
       "         8.75875876,  8.76876877,  8.77877878,  8.78878879,  8.7987988 ,\n",
       "         8.80880881,  8.81881882,  8.82882883,  8.83883884,  8.84884885,\n",
       "         8.85885886,  8.86886887,  8.87887888,  8.88888889,  8.8988989 ,\n",
       "         8.90890891,  8.91891892,  8.92892893,  8.93893894,  8.94894895,\n",
       "         8.95895896,  8.96896897,  8.97897898,  8.98898899,  8.998999  ,\n",
       "         9.00900901,  9.01901902,  9.02902903,  9.03903904,  9.04904905,\n",
       "         9.05905906,  9.06906907,  9.07907908,  9.08908909,  9.0990991 ,\n",
       "         9.10910911,  9.11911912,  9.12912913,  9.13913914,  9.14914915,\n",
       "         9.15915916,  9.16916917,  9.17917918,  9.18918919,  9.1991992 ,\n",
       "         9.20920921,  9.21921922,  9.22922923,  9.23923924,  9.24924925,\n",
       "         9.25925926,  9.26926927,  9.27927928,  9.28928929,  9.2992993 ,\n",
       "         9.30930931,  9.31931932,  9.32932933,  9.33933934,  9.34934935,\n",
       "         9.35935936,  9.36936937,  9.37937938,  9.38938939,  9.3993994 ,\n",
       "         9.40940941,  9.41941942,  9.42942943,  9.43943944,  9.44944945,\n",
       "         9.45945946,  9.46946947,  9.47947948,  9.48948949,  9.4994995 ,\n",
       "         9.50950951,  9.51951952,  9.52952953,  9.53953954,  9.54954955,\n",
       "         9.55955956,  9.56956957,  9.57957958,  9.58958959,  9.5995996 ,\n",
       "         9.60960961,  9.61961962,  9.62962963,  9.63963964,  9.64964965,\n",
       "         9.65965966,  9.66966967,  9.67967968,  9.68968969,  9.6996997 ,\n",
       "         9.70970971,  9.71971972,  9.72972973,  9.73973974,  9.74974975,\n",
       "         9.75975976,  9.76976977,  9.77977978,  9.78978979,  9.7997998 ,\n",
       "         9.80980981,  9.81981982,  9.82982983,  9.83983984,  9.84984985,\n",
       "         9.85985986,  9.86986987,  9.87987988,  9.88988989,  9.8998999 ,\n",
       "         9.90990991,  9.91991992,  9.92992993,  9.93993994,  9.94994995,\n",
       "         9.95995996,  9.96996997,  9.97997998,  9.98998999, 10.        ]),\n",
       " array([ 6.37962963,  6.38502855,  6.39042746,  6.39582638,  6.4012253 ,\n",
       "         6.40662422,  6.41202313,  6.41742205,  6.42282097,  6.42821989,\n",
       "         6.4336188 ,  6.43901772,  6.44441664,  6.44981556,  6.45521447,\n",
       "         6.46061339,  6.46601231,  6.47141123,  6.47681014,  6.48220906,\n",
       "         6.48760798,  6.4930069 ,  6.49840581,  6.50380473,  6.50920365,\n",
       "         6.51460257,  6.52000148,  6.5254004 ,  6.53079932,  6.53619824,\n",
       "         6.54159715,  6.54699607,  6.55239499,  6.55779391,  6.56319282,\n",
       "         6.56859174,  6.57399066,  6.57938957,  6.58478849,  6.59018741,\n",
       "         6.59558633,  6.60098524,  6.60638416,  6.61178308,  6.617182  ,\n",
       "         6.62258091,  6.62797983,  6.63337875,  6.63877767,  6.64417658,\n",
       "         6.6495755 ,  6.65497442,  6.66037334,  6.66577225,  6.67117117,\n",
       "         6.67657009,  6.68196901,  6.68736792,  6.69276684,  6.69816576,\n",
       "         6.70356468,  6.70896359,  6.71436251,  6.71976143,  6.72516035,\n",
       "         6.73055926,  6.73595818,  6.7413571 ,  6.74675602,  6.75215493,\n",
       "         6.75755385,  6.76295277,  6.76835169,  6.7737506 ,  6.77914952,\n",
       "         6.78454844,  6.78994735,  6.79534627,  6.80074519,  6.80614411,\n",
       "         6.81154302,  6.81694194,  6.82234086,  6.82773978,  6.83313869,\n",
       "         6.83853761,  6.84393653,  6.84933545,  6.85473436,  6.86013328,\n",
       "         6.8655322 ,  6.87093112,  6.87633003,  6.88172895,  6.88712787,\n",
       "         6.89252679,  6.8979257 ,  6.90332462,  6.90872354,  6.91412246,\n",
       "         6.91952137,  6.92492029,  6.93031921,  6.93571813,  6.94111704,\n",
       "         6.94651596,  6.95191488,  6.9573138 ,  6.96271271,  6.96811163,\n",
       "         6.97351055,  6.97890947,  6.98430838,  6.9897073 ,  6.99510622,\n",
       "         7.00050513,  7.00590405,  7.01130297,  7.01670189,  7.0221008 ,\n",
       "         7.02749972,  7.03289864,  7.03829756,  7.04369647,  7.04909539,\n",
       "         7.05449431,  7.05989323,  7.06529214,  7.07069106,  7.07608998,\n",
       "         7.0814889 ,  7.08688781,  7.09228673,  7.09768565,  7.10308457,\n",
       "         7.10848348,  7.1138824 ,  7.11928132,  7.12468024,  7.13007915,\n",
       "         7.13547807,  7.14087699,  7.14627591,  7.15167482,  7.15707374,\n",
       "         7.16247266,  7.16787158,  7.17327049,  7.17866941,  7.18406833,\n",
       "         7.18946725,  7.19486616,  7.20026508,  7.205664  ,  7.21106291,\n",
       "         7.21646183,  7.22186075,  7.22725967,  7.23265858,  7.2380575 ,\n",
       "         7.24345642,  7.24885534,  7.25425425,  7.25965317,  7.26505209,\n",
       "         7.27045101,  7.27584992,  7.28124884,  7.28664776,  7.29204668,\n",
       "         7.29744559,  7.30284451,  7.30824343,  7.31364235,  7.31904126,\n",
       "         7.32444018,  7.3298391 ,  7.33523802,  7.34063693,  7.34603585,\n",
       "         7.35143477,  7.35683369,  7.3622326 ,  7.36763152,  7.37303044,\n",
       "         7.37842936,  7.38382827,  7.38922719,  7.39462611,  7.40002503,\n",
       "         7.40542394,  7.41082286,  7.41622178,  7.42162069,  7.42701961,\n",
       "         7.43241853,  7.43781745,  7.44321636,  7.44861528,  7.4540142 ,\n",
       "         7.45941312,  7.46481203,  7.47021095,  7.47560987,  7.48100879,\n",
       "         7.4864077 ,  7.49180662,  7.49720554,  7.50260446,  7.50800337,\n",
       "         7.51340229,  7.51880121,  7.52420013,  7.52959904,  7.53499796,\n",
       "         7.54039688,  7.5457958 ,  7.55119471,  7.55659363,  7.56199255,\n",
       "         7.56739147,  7.57279038,  7.5781893 ,  7.58358822,  7.58898714,\n",
       "         7.59438605,  7.59978497,  7.60518389,  7.61058281,  7.61598172,\n",
       "         7.62138064,  7.62677956,  7.63217847,  7.63757739,  7.64297631,\n",
       "         7.64837523,  7.65377414,  7.65917306,  7.66457198,  7.6699709 ,\n",
       "         7.67536981,  7.68076873,  7.68616765,  7.69156657,  7.69696548,\n",
       "         7.7023644 ,  7.70776332,  7.71316224,  7.71856115,  7.72396007,\n",
       "         7.72935899,  7.73475791,  7.74015682,  7.74555574,  7.75095466,\n",
       "         7.75635358,  7.76175249,  7.76715141,  7.77255033,  7.77794925,\n",
       "         7.78334816,  7.78874708,  7.794146  ,  7.79954492,  7.80494383,\n",
       "         7.81034275,  7.81574167,  7.82114059,  7.8265395 ,  7.83193842,\n",
       "         7.83733734,  7.84273625,  7.84813517,  7.85353409,  7.85893301,\n",
       "         7.86433192,  7.86973084,  7.87512976,  7.88052868,  7.88592759,\n",
       "         7.89132651,  7.89672543,  7.90212435,  7.90752326,  7.91292218,\n",
       "         7.9183211 ,  7.92372002,  7.92911893,  7.93451785,  7.93991677,\n",
       "         7.94531569,  7.9507146 ,  7.95611352,  7.96151244,  7.96691136,\n",
       "         7.97231027,  7.97770919,  7.98310811,  7.98850703,  7.99390594,\n",
       "         7.99930486,  8.00470378,  8.0101027 ,  8.01550161,  8.02090053,\n",
       "         8.02629945,  8.03169837,  8.03709728,  8.0424962 ,  8.04789512,\n",
       "         8.05329403,  8.05869295,  8.06409187,  8.06949079,  8.0748897 ,\n",
       "         8.08028862,  8.08568754,  8.09108646,  8.09648537,  8.10188429,\n",
       "         8.10728321,  8.11268213,  8.11808104,  8.12347996,  8.12887888,\n",
       "         8.1342778 ,  8.13967671,  8.14507563,  8.15047455,  8.15587347,\n",
       "         8.16127238,  8.1666713 ,  8.17207022,  8.17746914,  8.18286805,\n",
       "         8.18826697,  8.19366589,  8.19906481,  8.20446372,  8.20986264,\n",
       "         8.21526156,  8.22066048,  8.22605939,  8.23145831,  8.23685723,\n",
       "         8.24225615,  8.24765506,  8.25305398,  8.2584529 ,  8.26385181,\n",
       "         8.26925073,  8.27464965,  8.28004857,  8.28544748,  8.2908464 ,\n",
       "         8.29624532,  8.30164424,  8.30704315,  8.31244207,  8.31784099,\n",
       "         8.32323991,  8.32863882,  8.33403774,  8.33943666,  8.34483558,\n",
       "         8.35023449,  8.35563341,  8.36103233,  8.36643125,  8.37183016,\n",
       "         8.37722908,  8.382628  ,  8.38802692,  8.39342583,  8.39882475,\n",
       "         8.40422367,  8.40962259,  8.4150215 ,  8.42042042,  8.42581934,\n",
       "         8.43121826,  8.43661717,  8.44201609,  8.44741501,  8.45281393,\n",
       "         8.45821284,  8.46361176,  8.46901068,  8.47440959,  8.47980851,\n",
       "         8.48520743,  8.49060635,  8.49600526,  8.50140418,  8.5068031 ,\n",
       "         8.51220202,  8.51760093,  8.52299985,  8.52839877,  8.53379769,\n",
       "         8.5391966 ,  8.54459552,  8.54999444,  8.55539336,  8.56079227,\n",
       "         8.56619119,  8.57159011,  8.57698903,  8.58238794,  8.58778686,\n",
       "         8.59318578,  8.5985847 ,  8.60398361,  8.60938253,  8.61478145,\n",
       "         8.62018037,  8.62557928,  8.6309782 ,  8.63637712,  8.64177604,\n",
       "         8.64717495,  8.65257387,  8.65797279,  8.66337171,  8.66877062,\n",
       "         8.67416954,  8.67956846,  8.68496737,  8.69036629,  8.69576521,\n",
       "         8.70116413,  8.70656304,  8.71196196,  8.71736088,  8.7227598 ,\n",
       "         8.72815871,  8.73355763,  8.73895655,  8.74435547,  8.74975438,\n",
       "         8.7551533 ,  8.76055222,  8.76595114,  8.77135005,  8.77674897,\n",
       "         8.78214789,  8.78754681,  8.79294572,  8.79834464,  8.80374356,\n",
       "         8.80914248,  8.81454139,  8.81994031,  8.82533923,  8.83073815,\n",
       "         8.83613706,  8.84153598,  8.8469349 ,  8.85233382,  8.85773273,\n",
       "         8.86313165,  8.86853057,  8.87392949,  8.8793284 ,  8.88472732,\n",
       "         8.89012624,  8.89552515,  8.90092407,  8.90632299,  8.91172191,\n",
       "         8.91712082,  8.92251974,  8.92791866,  8.93331758,  8.93871649,\n",
       "         8.94411541,  8.94951433,  8.95491325,  8.96031216,  8.96571108,\n",
       "         8.97111   ,  8.97650892,  8.98190783,  8.98730675,  8.99270567,\n",
       "         8.99810459,  9.0035035 ,  9.00890242,  9.01430134,  9.01970026,\n",
       "         9.02509917,  9.03049809,  9.03589701,  9.04129593,  9.04669484,\n",
       "         9.05209376,  9.05749268,  9.0628916 ,  9.06829051,  9.07368943,\n",
       "         9.07908835,  9.08448727,  9.08988618,  9.0952851 ,  9.10068402,\n",
       "         9.10608293,  9.11148185,  9.11688077,  9.12227969,  9.1276786 ,\n",
       "         9.13307752,  9.13847644,  9.14387536,  9.14927427,  9.15467319,\n",
       "         9.16007211,  9.16547103,  9.17086994,  9.17626886,  9.18166778,\n",
       "         9.1870667 ,  9.19246561,  9.19786453,  9.20326345,  9.20866237,\n",
       "         9.21406128,  9.2194602 ,  9.22485912,  9.23025804,  9.23565695,\n",
       "         9.24105587,  9.24645479,  9.25185371,  9.25725262,  9.26265154,\n",
       "         9.26805046,  9.27344938,  9.27884829,  9.28424721,  9.28964613,\n",
       "         9.29504505,  9.30044396,  9.30584288,  9.3112418 ,  9.31664071,\n",
       "         9.32203963,  9.32743855,  9.33283747,  9.33823638,  9.3436353 ,\n",
       "         9.34903422,  9.35443314,  9.35983205,  9.36523097,  9.37062989,\n",
       "         9.37602881,  9.38142772,  9.38682664,  9.39222556,  9.39762448,\n",
       "         9.40302339,  9.40842231,  9.41382123,  9.41922015,  9.42461906,\n",
       "         9.43001798,  9.4354169 ,  9.44081582,  9.44621473,  9.45161365,\n",
       "         9.45701257,  9.46241149,  9.4678104 ,  9.47320932,  9.47860824,\n",
       "         9.48400716,  9.48940607,  9.49480499,  9.50020391,  9.50560283,\n",
       "         9.51100174,  9.51640066,  9.52179958,  9.52719849,  9.53259741,\n",
       "         9.53799633,  9.54339525,  9.54879416,  9.55419308,  9.559592  ,\n",
       "         9.56499092,  9.57038983,  9.57578875,  9.58118767,  9.58658659,\n",
       "         9.5919855 ,  9.59738442,  9.60278334,  9.60818226,  9.61358117,\n",
       "         9.61898009,  9.62437901,  9.62977793,  9.63517684,  9.64057576,\n",
       "         9.64597468,  9.6513736 ,  9.65677251,  9.66217143,  9.66757035,\n",
       "         9.67296927,  9.67836818,  9.6837671 ,  9.68916602,  9.69456494,\n",
       "         9.69996385,  9.70536277,  9.71076169,  9.71616061,  9.72155952,\n",
       "         9.72695844,  9.73235736,  9.73775627,  9.74315519,  9.74855411,\n",
       "         9.75395303,  9.75935194,  9.76475086,  9.77014978,  9.7755487 ,\n",
       "         9.78094761,  9.78634653,  9.79174545,  9.79714437,  9.80254328,\n",
       "         9.8079422 ,  9.81334112,  9.81874004,  9.82413895,  9.82953787,\n",
       "         9.83493679,  9.84033571,  9.84573462,  9.85113354,  9.85653246,\n",
       "         9.86193138,  9.86733029,  9.87272921,  9.87812813,  9.88352705,\n",
       "         9.88892596,  9.89432488,  9.8997238 ,  9.90512272,  9.91052163,\n",
       "         9.91592055,  9.92131947,  9.92671839,  9.9321173 ,  9.93751622,\n",
       "         9.94291514,  9.94831405,  9.95371297,  9.95911189,  9.96451081,\n",
       "         9.96990972,  9.97530864,  9.98070756,  9.98610648,  9.99150539,\n",
       "         9.99690431, 10.00230323, 10.00770215, 10.01310106, 10.01849998,\n",
       "        10.0238989 , 10.02929782, 10.03469673, 10.04009565, 10.04549457,\n",
       "        10.05089349, 10.0562924 , 10.06169132, 10.06709024, 10.07248916,\n",
       "        10.07788807, 10.08328699, 10.08868591, 10.09408483, 10.09948374,\n",
       "        10.10488266, 10.11028158, 10.1156805 , 10.12107941, 10.12647833,\n",
       "        10.13187725, 10.13727617, 10.14267508, 10.148074  , 10.15347292,\n",
       "        10.15887183, 10.16427075, 10.16966967, 10.17506859, 10.1804675 ,\n",
       "        10.18586642, 10.19126534, 10.19666426, 10.20206317, 10.20746209,\n",
       "        10.21286101, 10.21825993, 10.22365884, 10.22905776, 10.23445668,\n",
       "        10.2398556 , 10.24525451, 10.25065343, 10.25605235, 10.26145127,\n",
       "        10.26685018, 10.2722491 , 10.27764802, 10.28304694, 10.28844585,\n",
       "        10.29384477, 10.29924369, 10.30464261, 10.31004152, 10.31544044,\n",
       "        10.32083936, 10.32623828, 10.33163719, 10.33703611, 10.34243503,\n",
       "        10.34783395, 10.35323286, 10.35863178, 10.3640307 , 10.36942961,\n",
       "        10.37482853, 10.38022745, 10.38562637, 10.39102528, 10.3964242 ,\n",
       "        10.40182312, 10.40722204, 10.41262095, 10.41801987, 10.42341879,\n",
       "        10.42881771, 10.43421662, 10.43961554, 10.44501446, 10.45041338,\n",
       "        10.45581229, 10.46121121, 10.46661013, 10.47200905, 10.47740796,\n",
       "        10.48280688, 10.4882058 , 10.49360472, 10.49900363, 10.50440255,\n",
       "        10.50980147, 10.51520039, 10.5205993 , 10.52599822, 10.53139714,\n",
       "        10.53679606, 10.54219497, 10.54759389, 10.55299281, 10.55839173,\n",
       "        10.56379064, 10.56918956, 10.57458848, 10.57998739, 10.58538631,\n",
       "        10.59078523, 10.59618415, 10.60158306, 10.60698198, 10.6123809 ,\n",
       "        10.61777982, 10.62317873, 10.62857765, 10.63397657, 10.63937549,\n",
       "        10.6447744 , 10.65017332, 10.65557224, 10.66097116, 10.66637007,\n",
       "        10.67176899, 10.67716791, 10.68256683, 10.68796574, 10.69336466,\n",
       "        10.69876358, 10.7041625 , 10.70956141, 10.71496033, 10.72035925,\n",
       "        10.72575817, 10.73115708, 10.736556  , 10.74195492, 10.74735384,\n",
       "        10.75275275, 10.75815167, 10.76355059, 10.76894951, 10.77434842,\n",
       "        10.77974734, 10.78514626, 10.79054517, 10.79594409, 10.80134301,\n",
       "        10.80674193, 10.81214084, 10.81753976, 10.82293868, 10.8283376 ,\n",
       "        10.83373651, 10.83913543, 10.84453435, 10.84993327, 10.85533218,\n",
       "        10.8607311 , 10.86613002, 10.87152894, 10.87692785, 10.88232677,\n",
       "        10.88772569, 10.89312461, 10.89852352, 10.90392244, 10.90932136,\n",
       "        10.91472028, 10.92011919, 10.92551811, 10.93091703, 10.93631595,\n",
       "        10.94171486, 10.94711378, 10.9525127 , 10.95791162, 10.96331053,\n",
       "        10.96870945, 10.97410837, 10.97950729, 10.9849062 , 10.99030512,\n",
       "        10.99570404, 11.00110295, 11.00650187, 11.01190079, 11.01729971,\n",
       "        11.02269862, 11.02809754, 11.03349646, 11.03889538, 11.04429429,\n",
       "        11.04969321, 11.05509213, 11.06049105, 11.06588996, 11.07128888,\n",
       "        11.0766878 , 11.08208672, 11.08748563, 11.09288455, 11.09828347,\n",
       "        11.10368239, 11.1090813 , 11.11448022, 11.11987914, 11.12527806,\n",
       "        11.13067697, 11.13607589, 11.14147481, 11.14687373, 11.15227264,\n",
       "        11.15767156, 11.16307048, 11.1684694 , 11.17386831, 11.17926723,\n",
       "        11.18466615, 11.19006507, 11.19546398, 11.2008629 , 11.20626182,\n",
       "        11.21166073, 11.21705965, 11.22245857, 11.22785749, 11.2332564 ,\n",
       "        11.23865532, 11.24405424, 11.24945316, 11.25485207, 11.26025099,\n",
       "        11.26564991, 11.27104883, 11.27644774, 11.28184666, 11.28724558,\n",
       "        11.2926445 , 11.29804341, 11.30344233, 11.30884125, 11.31424017,\n",
       "        11.31963908, 11.325038  , 11.33043692, 11.33583584, 11.34123475,\n",
       "        11.34663367, 11.35203259, 11.35743151, 11.36283042, 11.36822934,\n",
       "        11.37362826, 11.37902718, 11.38442609, 11.38982501, 11.39522393,\n",
       "        11.40062285, 11.40602176, 11.41142068, 11.4168196 , 11.42221851,\n",
       "        11.42761743, 11.43301635, 11.43841527, 11.44381418, 11.4492131 ,\n",
       "        11.45461202, 11.46001094, 11.46540985, 11.47080877, 11.47620769,\n",
       "        11.48160661, 11.48700552, 11.49240444, 11.49780336, 11.50320228,\n",
       "        11.50860119, 11.51400011, 11.51939903, 11.52479795, 11.53019686,\n",
       "        11.53559578, 11.5409947 , 11.54639362, 11.55179253, 11.55719145,\n",
       "        11.56259037, 11.56798929, 11.5733882 , 11.57878712, 11.58418604,\n",
       "        11.58958496, 11.59498387, 11.60038279, 11.60578171, 11.61118063,\n",
       "        11.61657954, 11.62197846, 11.62737738, 11.63277629, 11.63817521,\n",
       "        11.64357413, 11.64897305, 11.65437196, 11.65977088, 11.6651698 ,\n",
       "        11.67056872, 11.67596763, 11.68136655, 11.68676547, 11.69216439,\n",
       "        11.6975633 , 11.70296222, 11.70836114, 11.71376006, 11.71915897,\n",
       "        11.72455789, 11.72995681, 11.73535573, 11.74075464, 11.74615356,\n",
       "        11.75155248, 11.7569514 , 11.76235031, 11.76774923, 11.77314815])]"
      ]
     },
     "execution_count": 18,
     "metadata": {},
     "output_type": "execute_result"
    }
   ],
   "source": [
    "def reg_line (m, c, xs):\n",
    "    m, c = best_fit(X,Y)\n",
    "    x = np.linspace(0,10,1000)\n",
    "    y = m*x + c\n",
    "    return [x,y]\n",
    "\n",
    "# Uncomment below\n",
    "regression_line = reg_line(m,c,X)\n",
    "regression_line"
   ]
  },
  {
   "cell_type": "markdown",
   "metadata": {},
   "source": [
    "## Plot the (x,y) data points and draw the calculated regression line for visual inspection"
   ]
  },
  {
   "cell_type": "code",
   "execution_count": 15,
   "metadata": {},
   "outputs": [
    {
     "data": {
      "text/plain": [
       "<matplotlib.axes._subplots.AxesSubplot at 0x7f9b13839f98>"
      ]
     },
     "execution_count": 15,
     "metadata": {},
     "output_type": "execute_result"
    },
    {
     "data": {
      "image/png": "[encoded data removed]",
      "text/plain": [
       "<Figure size 432x288 with 1 Axes>"
      ]
     },
     "metadata": {},
     "output_type": "display_data"
    }
   ],
   "source": [
    "# Plot data and regression line\n",
    "sns.scatterplot(x=X,y=Y)\n",
    "sns.lineplot(x=regression_line[0],y=regression_line[1])"
   ]
  },
  {
   "cell_type": "markdown",
   "metadata": {},
   "source": [
    "So there we have it, our least squares regression line. This is the best fit line and does describe the data pretty well (still not perfect though). \n",
    "\n",
    "## Describe your Model Mathematically and in Words"
   ]
  },
  {
   "cell_type": "code",
   "execution_count": 9,
   "metadata": {
    "collapsed": true
   },
   "outputs": [],
   "source": [
    "# Your answer here\n",
    "\n",
    "\n"
   ]
  },
  {
   "cell_type": "markdown",
   "metadata": {},
   "source": [
    "## Predicting label for new data\n",
    "\n",
    "So, how might you go about actually making a prediction based on this model you just made?\n",
    "\n",
    "Now that we have a working model with m and b as model parameters. We can fill in a value of x with these parameters to identify a corresponding value of $\\hat y$ according to our model. Recall the formula:\n",
    "\n",
    "$$\\hat y = \\hat mx + \\hat c$$\n",
    "\n",
    "Let's try to find a y prediction for a new value of $x = 7$ and unknown $y$, and plot the new prediction with existing data "
   ]
  },
  {
   "cell_type": "code",
   "execution_count": 10,
   "metadata": {
    "collapsed": true
   },
   "outputs": [],
   "source": [
    "x_new = 7\n",
    "y_predicted = \n",
    "y_predicted\n",
    "\n",
    "# 10.155092592592592"
   ]
  },
  {
   "cell_type": "markdown",
   "metadata": {},
   "source": [
    "## Plot the prediction with actual data and regression line "
   ]
  },
  {
   "cell_type": "code",
   "execution_count": 19,
   "metadata": {},
   "outputs": [
    {
     "data": {
      "image/png": "[encoded data removed]",
      "text/plain": [
       "<matplotlib.figure.Figure at 0x11e005780>"
      ]
     },
     "metadata": {},
     "output_type": "display_data"
    }
   ],
   "source": [
    "# Plot as above and show the predicted value\n"
   ]
  },
  {
   "cell_type": "markdown",
   "metadata": {},
   "source": [
    "You now know how to create your own models, which is great, but you still haven't answered one very important question: how accurate is our model? This will be discussed next.\n",
    "\n",
    "## Summary\n",
    "\n",
    "In this lesson, you learned how to draw a best fit line for given data labels and features, by first calculating the slope and intercept. The calculated regression line was then used to predict the label ($\\hat y$-value) of a previously unseen feature ($x$-value). The lesson uses a simple set of data points for demonstration."
   ]
  }
 ],
 "metadata": {
  "kernelspec": {
   "display_name": "Python 3",
   "language": "python",
   "name": "python3"
  },
  "language_info": {
   "codemirror_mode": {
    "name": "ipython",
    "version": 3
   },
   "file_extension": ".py",
   "mimetype": "text/x-python",
   "name": "python",
   "nbconvert_exporter": "python",
   "pygments_lexer": "ipython3",
   "version": "3.6.6"
  }
 },
 "nbformat": 4,
 "nbformat_minor": 2
}
